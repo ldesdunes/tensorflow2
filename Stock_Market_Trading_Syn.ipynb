{
  "nbformat": 4,
  "nbformat_minor": 0,
  "metadata": {
    "colab": {
      "name": "Stock Market Trading.ipynb",
      "provenance": [],
      "collapsed_sections": [],
      "include_colab_link": true
    },
    "kernelspec": {
      "display_name": "Python 3",
      "language": "python",
      "name": "python3"
    },
    "language_info": {
      "codemirror_mode": {
        "name": "ipython",
        "version": 3
      },
      "file_extension": ".py",
      "mimetype": "text/x-python",
      "name": "python",
      "nbconvert_exporter": "python",
      "pygments_lexer": "ipython3",
      "version": "3.8.8"
    }
  },
  "cells": [
    {
      "cell_type": "markdown",
      "metadata": {
        "id": "view-in-github",
        "colab_type": "text"
      },
      "source": [
        "<a href=\"https://colab.research.google.com/github/ldesdunes/tensorflow2/blob/master/Stock_Market_Trading_Syn.ipynb\" target=\"_parent\"><img src=\"https://colab.research.google.com/assets/colab-badge.svg\" alt=\"Open In Colab\"/></a>"
      ]
    },
    {
      "cell_type": "markdown",
      "metadata": {
        "id": "AAmZL-w4AZhb"
      },
      "source": [
        "<a href=\"https://colab.research.google.com/github/joanby/tensorflow2/blob/master/Collab%208%20-%20Reinforcement%20Learning%20para%20problemas%20de%20Stock%20Market%20Trading.ipynb\" target=\"_parent\"><img src=\"https://colab.research.google.com/assets/colab-badge.svg\" alt=\"Open In Colab\"/></a>"
      ]
    },
    {
      "cell_type": "markdown",
      "metadata": {
        "id": "CFYKMfEEEzni"
      },
      "source": [
        "## Paso 1: Instalar las dependencias y configurar el entorno"
      ]
    },
    {
      "cell_type": "code",
      "metadata": {
        "id": "UEPWe6QNErug"
      },
      "source": [
        "#!pip install tensorflow-gpu==2.0.0.alpha0\n",
        "%tensorflow_version 2.x"
      ],
      "execution_count": null,
      "outputs": []
    },
    {
      "cell_type": "code",
      "metadata": {
        "id": "6lafKy3gGRFW"
      },
      "source": [
        "#!pip install pandas-datareader"
      ],
      "execution_count": null,
      "outputs": []
    },
    {
      "cell_type": "markdown",
      "metadata": {
        "id": "J0BVbvetGrlR"
      },
      "source": [
        "## Paso 2: Importar las dependencias del proyecto"
      ]
    },
    {
      "cell_type": "code",
      "metadata": {
        "id": "qALiMginGiMW",
        "colab": {
          "base_uri": "https://localhost:8080/"
        },
        "outputId": "515a43fd-f81d-4a21-8c38-9c059663cdb4"
      },
      "source": [
        "import math\n",
        "import random\n",
        "import numpy as np\n",
        "import pandas as pd\n",
        "import tensorflow as tf\n",
        "import matplotlib.pyplot as plt\n",
        "#import pandas_datareader as data_reader\n",
        "\n",
        "from tqdm import tqdm_notebook, tqdm\n",
        "from collections import deque\n",
        "\n",
        "import statsmodels.graphics.tsaplots as sgt "
      ],
      "execution_count": null,
      "outputs": [
        {
          "output_type": "stream",
          "name": "stderr",
          "text": [
            "/usr/local/lib/python3.7/dist-packages/statsmodels/tools/_testing.py:19: FutureWarning: pandas.util.testing is deprecated. Use the functions in the public API at pandas.testing instead.\n",
            "  import pandas.util.testing as tm\n"
          ]
        }
      ]
    },
    {
      "cell_type": "code",
      "metadata": {
        "colab": {
          "base_uri": "https://localhost:8080/",
          "height": 35
        },
        "id": "drGd9adHGuje",
        "outputId": "505d77bd-aeb2-4df0-8f34-c3c84519084a"
      },
      "source": [
        "tf.__version__"
      ],
      "execution_count": null,
      "outputs": [
        {
          "output_type": "execute_result",
          "data": {
            "application/vnd.google.colaboratory.intrinsic+json": {
              "type": "string"
            },
            "text/plain": [
              "'2.6.0'"
            ]
          },
          "metadata": {},
          "execution_count": 4
        }
      ]
    },
    {
      "cell_type": "markdown",
      "metadata": {
        "id": "__E4SMMaGwqb"
      },
      "source": [
        "## Paso 3: Construir la red neuronal de la AI del Trader "
      ]
    },
    {
      "cell_type": "code",
      "metadata": {
        "id": "PCggfrCtGyiG"
      },
      "source": [
        "class AI_Trader():\n",
        "  \n",
        "  def __init__(self, state_size, action_space=3, model_name=\"AITrader\"): #Manten, Compra, Vende\n",
        "    \n",
        "    self.state_size = state_size\n",
        "    self.action_space = action_space\n",
        "    self.memory = deque(maxlen=2000)\n",
        "    self.inventory = []\n",
        "    self.model_name = model_name\n",
        "    \n",
        "    self.gamma = 0.95\n",
        "    self.epsilon = 1.0\n",
        "    self.epsilon_final = 0.01\n",
        "    self.epsilon_decay = 0.995\n",
        "    \n",
        "    self.model = self.model_builder()\n",
        "    \n",
        "  def model_builder(self):\n",
        "    \n",
        "    model = tf.keras.models.Sequential()    \n",
        "    model.add(tf.keras.layers.Dense(units=32, activation='relu', input_dim=self.state_size))    \n",
        "    model.add(tf.keras.layers.Dense(units=64, activation='relu'))    \n",
        "    model.add(tf.keras.layers.Dense(units=128, activation='relu'))    \n",
        "    model.add(tf.keras.layers.Dense(units=self.action_space, activation='linear'))    \n",
        "    model.compile(loss='mse', optimizer=tf.keras.optimizers.Adam(lr=0.001))\n",
        "    \n",
        "    return model\n",
        "  \n",
        "  def trade(self, state):\n",
        "    \n",
        "    if random.random() <= self.epsilon:\n",
        "      return random.randrange(self.action_space)\n",
        "    \n",
        "    actions = self.model.predict(state)\n",
        "    return np.argmax(actions[0])\n",
        "  \n",
        "  \n",
        "  def batch_train(self, batch_size):\n",
        "    \n",
        "    batch = []\n",
        "    for i in range(len(self.memory) - batch_size + 1, len(self.memory)):\n",
        "      batch.append(self.memory[i])\n",
        "      \n",
        "    for state, action, reward, next_state, done in batch:\n",
        "      reward = reward\n",
        "      if not done:\n",
        "        reward = reward + self.gamma * np.amax(self.model.predict(next_state)[0])\n",
        "        \n",
        "      target = self.model.predict(state)\n",
        "      target[0][action] = reward\n",
        "      \n",
        "      self.model.fit(state, target, epochs=1, verbose=0)\n",
        "      \n",
        "    if self.epsilon > self.epsilon_final:\n",
        "      self.epsilon *= self.epsilon_decay"
      ],
      "execution_count": null,
      "outputs": []
    },
    {
      "cell_type": "markdown",
      "metadata": {
        "id": "7tcUyJMnS479"
      },
      "source": [
        "## Paso 4: Pre procesado del dataset"
      ]
    },
    {
      "cell_type": "markdown",
      "metadata": {
        "id": "ya_4XPUMS8Pe"
      },
      "source": [
        "### Definir las funciones adicionales"
      ]
    },
    {
      "cell_type": "markdown",
      "metadata": {
        "id": "kK6UDGe0TACz"
      },
      "source": [
        "#### Sigmoide"
      ]
    },
    {
      "cell_type": "code",
      "metadata": {
        "id": "IzXG-49iSZX3"
      },
      "source": [
        "def sigmoid(x):\n",
        "  return 1 / (1 + math.exp(-x))"
      ],
      "execution_count": null,
      "outputs": []
    },
    {
      "cell_type": "markdown",
      "metadata": {
        "id": "0VRbmx_OTDtZ"
      },
      "source": [
        "#### Función de formato de precios"
      ]
    },
    {
      "cell_type": "code",
      "metadata": {
        "id": "N8vVBL8YTGaE"
      },
      "source": [
        "def stocks_price_format(n):\n",
        "  if n < 0:\n",
        "    return \"- $ {0:2f}\".format(abs(n))\n",
        "  else:\n",
        "    return \"$  {0:2f}\".format(abs(n))"
      ],
      "execution_count": null,
      "outputs": []
    },
    {
      "cell_type": "markdown",
      "metadata": {
        "id": "j8_bXTiFTHnH"
      },
      "source": [
        "#### Carga del dataset"
      ]
    },
    {
      "cell_type": "code",
      "metadata": {
        "id": "ZAcu8ZZzTNwm"
      },
      "source": [
        "def dataset_loader(stock_name):\n",
        "  \n",
        "  #Complete the dataset loader function\n",
        "  #dataset = data_reader.DataReader(stock_name, data_source=\"yahoo\")\n",
        "  \n",
        "  dataset = pd.read_csv('https://raw.githubusercontent.com/ldesdunes/tensorflow2/master/datasets/aapl.csv')\n",
        "  \n",
        "  #ld: Esto es para disminuir rows en pruebas\n",
        "  dataset = dataset[:int(len(dataset)/3)]\n",
        "\n",
        "  start_date = str(dataset.index[0]).split()[0]\n",
        "  end_date = str(dataset.index[-1]).split()[0]\n",
        "  \n",
        "  close = dataset['Close']\n",
        "\n",
        "  return close #, Volume"
      ],
      "execution_count": null,
      "outputs": []
    },
    {
      "cell_type": "markdown",
      "metadata": {
        "id": "eG5ueRzH1Kh8"
      },
      "source": [
        "### State creator"
      ]
    },
    {
      "cell_type": "code",
      "metadata": {
        "id": "zwTS0EyZ0O1k"
      },
      "source": [
        "def state_creator(data, timestep, window_size):\n",
        "  \n",
        "  starting_id = timestep - window_size + 1\n",
        "  \n",
        "  if starting_id >= 0:\n",
        "    windowed_data = list(data[starting_id:timestep+1])\n",
        "  else:\n",
        "    windowed_data = - starting_id * [data[0]] + list(data[0:timestep+1])\n",
        "\n",
        "  #ld: Convertir en estacionaria la serie\n",
        "  #df = pd.DataFrame(windowed_data)\n",
        "  #windowed_data = df.diff().fillna(0)[0]\n",
        "\n",
        "  state = []\n",
        "  for i in range(window_size - 1):\n",
        "    state.append(sigmoid(windowed_data[i+1] - windowed_data[i]))\n",
        "    \n",
        "  return np.array([state])\n",
        "\n",
        "#state_creator(data, 0, 18)"
      ],
      "execution_count": null,
      "outputs": []
    },
    {
      "cell_type": "markdown",
      "metadata": {
        "id": "sV2a68QC34N-"
      },
      "source": [
        "### Cargar una divisa de mercado"
      ]
    },
    {
      "cell_type": "code",
      "metadata": {
        "id": "acuYlqD83xcX"
      },
      "source": [
        "#stock_name = \"AAPL\"\n",
        "stock_name = \"BTC-USD\"\n",
        "data = dataset_loader(stock_name)"
      ],
      "execution_count": null,
      "outputs": []
    },
    {
      "cell_type": "markdown",
      "metadata": {
        "id": "oYamZab4qPEM"
      },
      "source": [
        "### Pruebas & analisis de los datos"
      ]
    },
    {
      "cell_type": "markdown",
      "metadata": {
        "id": "TQGjm9z2qZYC"
      },
      "source": [
        "#### Encontrar el mejor retroceso"
      ]
    },
    {
      "cell_type": "code",
      "metadata": {
        "id": "ZNWDkbz3rYgo",
        "colab": {
          "base_uri": "https://localhost:8080/",
          "height": 286
        },
        "outputId": "a620f18c-240c-4598-e346-b4b8389afaba"
      },
      "source": [
        "df = data #data.diff(0)\n",
        "sgt.plot_acf(df, lags = 10, zero = False)\n",
        "plt.title(\"ACF S&P\", size = 20)\n",
        "plt.show()"
      ],
      "execution_count": null,
      "outputs": [
        {
          "output_type": "display_data",
          "data": {
            "image/png": "[encoded data removed]",
            "text/plain": [
              "<Figure size 432x288 with 1 Axes>"
            ]
          },
          "metadata": {
            "needs_background": "light"
          }
        }
      ]
    },
    {
      "cell_type": "code",
      "metadata": {
        "colab": {
          "base_uri": "https://localhost:8080/",
          "height": 282
        },
        "id": "8jNi9ZIyaxyZ",
        "outputId": "5d43a940-2579-430f-f4e3-168873ff461c"
      },
      "source": [
        "df.plot()"
      ],
      "execution_count": null,
      "outputs": [
        {
          "output_type": "execute_result",
          "data": {
            "text/plain": [
              "<matplotlib.axes._subplots.AxesSubplot at 0x7fa412884450>"
            ]
          },
          "metadata": {},
          "execution_count": 25
        },
        {
          "output_type": "display_data",
          "data": {
            "image/png": "[encoded data removed]",
            "text/plain": [
              "<Figure size 432x288 with 1 Axes>"
            ]
          },
          "metadata": {
            "needs_background": "light"
          }
        }
      ]
    },
    {
      "cell_type": "markdown",
      "metadata": {
        "id": "k_KUeBY14o8Z"
      },
      "source": [
        "## Paso 5: Entrenar la AI Trader"
      ]
    },
    {
      "cell_type": "markdown",
      "metadata": {
        "id": "hkyW12-L4qo_"
      },
      "source": [
        "### Configurar los hyper parámetros"
      ]
    },
    {
      "cell_type": "code",
      "metadata": {
        "id": "dKfuoXO84c5X"
      },
      "source": [
        "window_size = 7\n",
        "episodes = 1000\n",
        "\n",
        "batch_size = 32\n",
        "data_samples = len(data) - 1"
      ],
      "execution_count": null,
      "outputs": []
    },
    {
      "cell_type": "markdown",
      "metadata": {
        "id": "h2kvNZx24sJ7"
      },
      "source": [
        "### Definir el modelo del AI Trader"
      ]
    },
    {
      "cell_type": "code",
      "metadata": {
        "colab": {
          "base_uri": "https://localhost:8080/"
        },
        "id": "M4LmF2V94trY",
        "outputId": "b70210ca-730e-41ea-d97e-2f2a9f0d27e1"
      },
      "source": [
        "trader = AI_Trader(window_size)"
      ],
      "execution_count": null,
      "outputs": [
        {
          "output_type": "stream",
          "name": "stderr",
          "text": [
            "/usr/local/lib/python3.7/dist-packages/keras/optimizer_v2/optimizer_v2.py:356: UserWarning: The `lr` argument is deprecated, use `learning_rate` instead.\n",
            "  \"The `lr` argument is deprecated, use `learning_rate` instead.\")\n"
          ]
        }
      ]
    },
    {
      "cell_type": "code",
      "metadata": {
        "id": "y66jkzwW4wNV"
      },
      "source": [
        "#trader.model.summary()"
      ],
      "execution_count": null,
      "outputs": []
    },
    {
      "cell_type": "markdown",
      "metadata": {
        "id": "QRip_rac5zHS"
      },
      "source": [
        "### Bucle de entrenamiento"
      ]
    },
    {
      "cell_type": "code",
      "metadata": {
        "id": "b0tytPl-5hdg"
      },
      "source": [
        "for episode in range(1, episodes + 1):\n",
        "  \n",
        "  print(\"Episodio: {}/{}\".format(episode, episodes))\n",
        "  \n",
        "  state = state_creator(data, 0, window_size + 1)\n",
        "  \n",
        "  total_profit = 0\n",
        "  trader.inventory = []\n",
        "  \n",
        "  for t in tqdm(range(data_samples)):\n",
        "    \n",
        "    action = trader.trade(state)\n",
        "    \n",
        "    next_state = state_creator(data, t+1, window_size + 1)\n",
        "    reward = 0\n",
        "    \n",
        "    if action == 1: #Compra\n",
        "      trader.inventory.append(data[t])\n",
        "      print(\"AI Trader compró: \", stocks_price_format(data[t]))\n",
        "      \n",
        "    elif action == 2 and len(trader.inventory) > 0: #Vende\n",
        "      buy_price = trader.inventory.pop(0)\n",
        "      \n",
        "      reward = max(data[t] - buy_price, 0)\n",
        "      total_profit += data[t] - buy_price\n",
        "      print(\"AI Trader vendió: \", stocks_price_format(data[t]), \" Beneficio: \" + stocks_price_format(data[t] - buy_price), 'Total: '+ stocks_price_format(total_profit) )\n",
        "      \n",
        "    if t == data_samples - 1:\n",
        "      done = True\n",
        "    else:\n",
        "      done = False\n",
        "      \n",
        "    trader.memory.append((state, action, reward, next_state, done))\n",
        "    \n",
        "    state = next_state\n",
        "    \n",
        "    if done:\n",
        "      print(\"########################\")\n",
        "      print(\"BENEFICIO TOTAL: {}\".format(total_profit))\n",
        "      print(\"########################\")\n",
        "    \n",
        "    if len(trader.memory) > batch_size:\n",
        "      trader.batch_train(batch_size)\n",
        "      \n",
        "  if episode % 10 == 0:\n",
        "    trader.model.save(\"ai_trader_{}.h5\".format(episode))\n",
        "    "
      ],
      "execution_count": null,
      "outputs": []
    }
  ]
}